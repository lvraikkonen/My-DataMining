{
 "metadata": {
  "name": "",
  "signature": "sha256:efb28f4ad093ecec024bd1cb315c561d491d0c0a8bf8a88d53b82aedd94ce7bb"
 },
 "nbformat": 3,
 "nbformat_minor": 0,
 "worksheets": [
  {
   "cells": [
    {
     "cell_type": "heading",
     "level": 1,
     "metadata": {},
     "source": [
      "DecisionTreeClassifier"
     ]
    },
    {
     "cell_type": "markdown",
     "metadata": {},
     "source": [
      "DecisionTreeClassifier take as input two arrays: \n",
      "- an array X of size [n_samples, n_features] holding the training samples\n",
      "- an array Y of integer values, size [n_samples], holding the class labels for the training samples:"
     ]
    },
    {
     "cell_type": "code",
     "collapsed": false,
     "input": [
      "from sklearn import tree\n",
      "X = [[0, 0], [1, 1]]\n",
      "Y = [0, 1]\n",
      "clf = tree.DecisionTreeClassifier()\n",
      "clf = clf.fit(X, Y)"
     ],
     "language": "python",
     "metadata": {},
     "outputs": [],
     "prompt_number": 1
    },
    {
     "cell_type": "code",
     "collapsed": false,
     "input": [
      "clf.predict([[2., 2.]])"
     ],
     "language": "python",
     "metadata": {},
     "outputs": [
      {
       "metadata": {},
       "output_type": "pyout",
       "prompt_number": 2,
       "text": [
        "array([1])"
       ]
      }
     ],
     "prompt_number": 2
    },
    {
     "cell_type": "heading",
     "level": 1,
     "metadata": {},
     "source": [
      "Iris Data Set Example"
     ]
    },
    {
     "cell_type": "markdown",
     "metadata": {},
     "source": [
      "construct a tree"
     ]
    },
    {
     "cell_type": "code",
     "collapsed": false,
     "input": [
      "from sklearn import datasets\n",
      "from sklearn import tree\n",
      "\n",
      "iris = datasets.load_iris()\n",
      "# iris.data\n",
      "# iris.target\n",
      "clf = tree.DecisionTreeClassifier()\n",
      "# Train\n",
      "clf = clf.fit(iris.data, iris.target)\n",
      "clf"
     ],
     "language": "python",
     "metadata": {},
     "outputs": [
      {
       "metadata": {},
       "output_type": "pyout",
       "prompt_number": 6,
       "text": [
        "DecisionTreeClassifier(compute_importances=None, criterion='gini',\n",
        "            max_depth=None, max_features=None, max_leaf_nodes=None,\n",
        "            min_density=None, min_samples_leaf=1, min_samples_split=2,\n",
        "            random_state=None, splitter='best')"
       ]
      }
     ],
     "prompt_number": 6
    },
    {
     "cell_type": "code",
     "collapsed": false,
     "input": [
      "# predict new data\n",
      "clf.predict(iris.data[0, :]) # the first item in iris"
     ],
     "language": "python",
     "metadata": {},
     "outputs": [
      {
       "metadata": {},
       "output_type": "pyout",
       "prompt_number": 8,
       "text": [
        "array([0])"
       ]
      }
     ],
     "prompt_number": 8
    },
    {
     "cell_type": "code",
     "collapsed": false,
     "input": [],
     "language": "python",
     "metadata": {},
     "outputs": []
    }
   ],
   "metadata": {}
  }
 ]
}